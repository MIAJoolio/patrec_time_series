{
 "cells": [
  {
   "cell_type": "code",
   "execution_count": 1,
   "id": "17f3956b",
   "metadata": {},
   "outputs": [],
   "source": [
    "import os\n",
    "from dotenv import load_dotenv\n",
    "\n",
    "load_dotenv()\n",
    "os.chdir(os.getenv(\"PROJECT_ROOT\"))\n",
    "\n",
    "import numpy as np"
   ]
  },
  {
   "cell_type": "markdown",
   "id": "928edb52",
   "metadata": {},
   "source": [
    "## files_helper"
   ]
  },
  {
   "cell_type": "code",
   "execution_count": 2,
   "id": "281ed0ac",
   "metadata": {},
   "outputs": [
    {
     "name": "stdout",
     "output_type": "stream",
     "text": [
      "(10, 101) 10 {'noise': {'hash': '93b8f7d8d5f5bc245bd519ddbd548f3e', 'params': {'general': {'length': 101, 'type': 'Noise_generator', 'generator_name': 'normal_noise'}, 'gen_params': {'noise_pct': 0.0}}}, 'trend': {'hash': '5963358791788bc1521d4beb0c5f4964', 'params': {'general': {'length': 101, 'type': 'TS_generator', 'generator_name': 'exponential_trend'}, 'gen_params': {'alpha': 0.03, 'length': 101}}}}\n",
      "True\n",
      "[{'param1': 1}, {'param2': 2}]\n"
     ]
    }
   ],
   "source": [
    "from patrec.utils.files_helper import Format1_loader\n",
    "\n",
    "# load data  \n",
    "dt = Format1_loader(filepath='data/Synthetic_data/17_06_samples/exp/sample1_10_1_0.json')\n",
    "print(dt.data.shape, len(dt.labels), dt.meta[0])\n",
    "\n",
    "# load data into Format1 \n",
    "loader = Format1_loader(data={\n",
    "    'data': [[1,2,3], [4,5,6]],\n",
    "    'labels': [0, 1],\n",
    "    'meta': [{'param1': 1}, {'param2': 2}]\n",
    "})\n",
    "\n",
    "# Accessing properties\n",
    "print(isinstance(loader.data, np.ndarray))  \n",
    "print(loader.meta)"
   ]
  },
  {
   "cell_type": "code",
   "execution_count": 4,
   "id": "86646ffa",
   "metadata": {},
   "outputs": [
    {
     "data": {
      "text/plain": [
       "array([1.        , 1.03045453, 1.06183655, 1.09417428, 1.12749685,\n",
       "       1.16183424, 1.19721736, 1.23367806, 1.27124915, 1.30996445])"
      ]
     },
     "execution_count": 4,
     "metadata": {},
     "output_type": "execute_result"
    }
   ],
   "source": [
    "dt.data[0][:10]"
   ]
  },
  {
   "cell_type": "markdown",
   "id": "b0b7aa83",
   "metadata": {},
   "source": [
    "## ts_classes"
   ]
  },
  {
   "cell_type": "code",
   "execution_count": 2,
   "id": "5376b819",
   "metadata": {},
   "outputs": [],
   "source": [
    "from patrec.utils.ts_classes import *"
   ]
  },
  {
   "cell_type": "code",
   "execution_count": 3,
   "id": "982d24ae",
   "metadata": {},
   "outputs": [
    {
     "name": "stdout",
     "output_type": "stream",
     "text": [
      "{'components': {'SIGNAL': {'hash': '931ec57b819cd9bf2c40baead8c4d562', 'params': {}, 'name': 'segment_1'}}, 'block_metadata': {}} {<TS_component_type.SIGNAL: 1>: <patrec.utils.ts_classes.TS_component object at 0x7d4b397db0e0>}\n",
      "[<patrec.utils.ts_classes.TS_additive_block object at 0x7d4d7c14fda0>, <patrec.utils.ts_classes.TS_additive_block object at 0x7d4d7c14c830>]\n",
      "[1.         1.03045453 1.06183655 1.09417428 1.12749685 1.16183424\n",
      " 1.19721736 1.23367806 1.27124915 1.30996445 1.         1.03045453\n",
      " 1.06183655 1.09417428 1.12749685 1.16183424 1.19721736 1.23367806\n",
      " 1.27124915 1.30996445]\n",
      "{} {'blocks': [{'components': {'SIGNAL': {'hash': '931ec57b819cd9bf2c40baead8c4d562', 'params': {}, 'name': 'segment_2'}}, 'block_metadata': {}}, {'components': {'SIGNAL': {'hash': '931ec57b819cd9bf2c40baead8c4d562', 'params': {}, 'name': 'segment_1'}}, 'block_metadata': {}}], 'total_length': 20}\n"
     ]
    }
   ],
   "source": [
    "data = [1.        , 1.03045453, 1.06183655, 1.09417428, 1.12749685,\n",
    "       1.16183424, 1.19721736, 1.23367806, 1.27124915, 1.30996445]\n",
    "\n",
    "comp1 = TS_component(data, component_type=TS_component_type.SIGNAL, name='segment_1')\n",
    "comp2 = TS_component(data, component_type=TS_component_type.SIGNAL, name='segment_2')\n",
    "\n",
    "block1 = TS_additive_block()\n",
    "block1.add_component(comp1)\n",
    "\n",
    "block2 = TS_additive_block()\n",
    "block2.add_component(comp2)\n",
    "\n",
    "print(block1.get_metadata(), block1.components)\n",
    "\n",
    "# Connect blocks\n",
    "connector = Block_connector()\n",
    "connector.add_block(block1)\n",
    "connector.add_block(block2)\n",
    "\n",
    "print(connector._blocks)\n",
    "\n",
    "# Get complete series with smooth transitions\n",
    "full_series = connector.build_series(smooth_transitions=True)\n",
    "\n",
    "# Get just the trend components\n",
    "trend_series = connector.get_component_series(TS_component_type.SIGNAL)\n",
    "print(trend_series)\n",
    "\n",
    "# Rearrange blocks\n",
    "connector.rearrange_blocks([1, 0])\n",
    "\n",
    "print(connector._transition_cache, connector.get_metadata())"
   ]
  }
 ],
 "metadata": {
  "kernelspec": {
   "display_name": ".venv",
   "language": "python",
   "name": "python3"
  },
  "language_info": {
   "codemirror_mode": {
    "name": "ipython",
    "version": 3
   },
   "file_extension": ".py",
   "mimetype": "text/x-python",
   "name": "python",
   "nbconvert_exporter": "python",
   "pygments_lexer": "ipython3",
   "version": "3.12.11"
  }
 },
 "nbformat": 4,
 "nbformat_minor": 5
}
